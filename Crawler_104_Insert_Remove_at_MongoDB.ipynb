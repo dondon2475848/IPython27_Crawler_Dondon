{
 "cells": [
  {
   "cell_type": "markdown",
   "metadata": {},
   "source": [
    "# 104工作抓取存入MongoDB(Insert與Remove Document)"
   ]
  },
  {
   "cell_type": "code",
   "execution_count": 2,
   "metadata": {
    "collapsed": false
   },
   "outputs": [],
   "source": [
    "import requests\n",
    "from bs4 import BeautifulSoup\n",
    "import re\n",
    "from datetime import *\n",
    "import json\n",
    "import pandas as pd\n",
    "\n",
    "### def\n",
    "# 移除指定tag\n",
    "def removeTag(soup,tag):\n",
    "    [x.extract() for x in soup.select(tag)]\n",
    "    \n",
    "# Connect to MongoDB\n",
    "import pymongo\n",
    "from pymongo import MongoClient\n",
    "client = MongoClient('localhost', 27017)\n",
    "db = client['jobdb']\n",
    "\n",
    "# Insert One dic\n",
    "def insertObjectToCollection(dicIn,collectionName):\n",
    "    goodCount  =0\n",
    "    badCount    =0\n",
    "\n",
    "    try:\n",
    "        collectionName.insert_one(dicIn)\n",
    "        #print('insert one object')\n",
    "        goodCount += 1\n",
    "    except pymongo.errors.DuplicateKeyError:\n",
    "        #print('collections內已有同id的object')\n",
    "        badCount += 1\n",
    "    print 'insert 成功 %d 筆 , 失敗 %d 筆' % (goodCount,badCount)\n",
    "    \n",
    "# Remove Collection\n",
    "def removeCollection(collectionName):\n",
    "    mesDic= collectionName.remove({})\n",
    "    print '清除了 %d 筆Object , 運行狀況 %d' % (mesDic['n'],mesDic['ok'])\n",
    "    \n",
    "# Drop Collection\n",
    "def DropCollection(collectionName):\n",
    "    collectionName.drop()\n",
    "    print '%s  \\n目前有 %d 筆Objects' % (collectionName,collectionName.find().count())\n",
    "\n",
    "# 將Query出來的文件轉為DataFrame印出\n",
    "def mongoDB_Query(Query):\n",
    "    newList=[]\n",
    "    for u in Query:\n",
    "        newList.append(u)\n",
    "\n",
    "    work=pd.DataFrame(newList)\n",
    "    work=work[[\"_id\",u\"公司名稱\",u\"職位\",u\"上班地址\",u\"職缺網址\",u\"職務更新日期\",u\"加入日期\"]]\n",
    "    return work\n",
    "def Save104toMongoDB(url):\n",
    "    url2=url.split('&jobsource=')[0]\n",
    "    res=requests.get(url)\n",
    "    #print res.text\n",
    "\n",
    "    soup = BeautifulSoup(res.text,\"lxml\")\n",
    "    companyName=''\n",
    "    position=''\n",
    "    address=''\n",
    "    companyUpdate=''\n",
    "    addDate=''\n",
    "    for s in soup.select('div.center'):\n",
    "        #公司名稱\n",
    "        print s.a.text.strip()\n",
    "        companyName =s.a.text.strip()#.encode('utf8')\n",
    "        removeTag(s,'span')\n",
    "        #職位\n",
    "        print s.h1.text.strip()\n",
    "        position=s.h1.text.strip()#.encode('utf8')\n",
    "    for s in soup.select('main.main'):\n",
    "        removeTag(s,'span')\n",
    "        removeTag(s,'a')\n",
    "        removeTag(s,'button')\n",
    "        #上班地址\n",
    "        print  re.sub(\"[\\s]\",\"\",s.select(\"dd.addr\")[0].text.strip())   \n",
    "        address= re.sub(\"[\\s]\",\"\",s.select(\"dd.addr\")[0].text.strip())#.encode('utf8')   \n",
    "        #職位更新的日期\n",
    "        print  re.sub(\"[^\\d-]\", \"\", s.select('time.update')[0].text)\n",
    "        companyUpdate=re.sub(\"[^\\d-]\", \"\", s.select('time.update')[0].text)#.encode('utf8')\n",
    "        #抓取的日期\n",
    "    print date.today()\n",
    "    addDate = str(date.today())\n",
    "    jobNo= url2.split('jobno=')[1]\n",
    "    print jobNo\n",
    "    bigDic={}\n",
    "    dic={\"_id\":jobNo,u\"公司名稱\":companyName,u\"職位\":position,u\"上班地址\":address,u\"職缺網址\":url2,u\"職務更新日期\":companyUpdate,u\"加入日期\":addDate}\n",
    "    print json.dumps(dic,encoding='utf-8',ensure_ascii=False)\n",
    "    print \"\\n===================================\"\n",
    "    insertObjectToCollection(dic,db.work)"
   ]
  },
  {
   "cell_type": "code",
   "execution_count": 3,
   "metadata": {
    "collapsed": false
   },
   "outputs": [
    {
     "name": "stdout",
     "output_type": "stream",
     "text": [
      "雙子星雲端運算股份有限公司\n",
      "雲端開發工程師\n",
      "新竹市東區公道五路二段158號11樓之3\n",
      "2016-07-04\n",
      "2016-07-28\n",
      "4rmgc\n",
      "{\"加入日期\": \"2016-07-28\", \"職務更新日期\": \"2016-07-04\", \"職缺網址\": \"http://www.104.com.tw/job/?jobno=4rmgc\", \"職位\": \"雲端開發工程師\", \"_id\": \"4rmgc\", \"公司名稱\": \"雙子星雲端運算股份有限公司\", \"上班地址\": \"新竹市東區公道五路二段158號11樓之3\"}\n",
      "\n",
      "===================================\n",
      "insert 成功 1 筆 , 失敗 0 筆\n"
     ]
    }
   ],
   "source": [
    "Save104toMongoDB('http://www.104.com.tw/job/?jobno=4rmgc&jobsource=pda_b')"
   ]
  },
  {
   "cell_type": "code",
   "execution_count": 4,
   "metadata": {
    "collapsed": false
   },
   "outputs": [
    {
     "data": {
      "text/html": [
       "<div>\n",
       "<table border=\"1\" class=\"dataframe\">\n",
       "  <thead>\n",
       "    <tr style=\"text-align: right;\">\n",
       "      <th></th>\n",
       "      <th>_id</th>\n",
       "      <th>公司名稱</th>\n",
       "      <th>職位</th>\n",
       "      <th>上班地址</th>\n",
       "      <th>職缺網址</th>\n",
       "      <th>職務更新日期</th>\n",
       "      <th>加入日期</th>\n",
       "    </tr>\n",
       "  </thead>\n",
       "  <tbody>\n",
       "    <tr>\n",
       "      <th>0</th>\n",
       "      <td>3q6w4</td>\n",
       "      <td>燿麒科技股份有限公司</td>\n",
       "      <td>Python 網站後端工程師</td>\n",
       "      <td>台北市大同區承德路一段35號6樓之1</td>\n",
       "      <td>http://www.104.com.tw/job/?jobno=3q6w4</td>\n",
       "      <td>2016-06-28</td>\n",
       "      <td>2016-07-28</td>\n",
       "    </tr>\n",
       "    <tr>\n",
       "      <th>1</th>\n",
       "      <td>4rmgc</td>\n",
       "      <td>雙子星雲端運算股份有限公司</td>\n",
       "      <td>雲端開發工程師</td>\n",
       "      <td>新竹市東區公道五路二段158號11樓之3</td>\n",
       "      <td>http://www.104.com.tw/job/?jobno=4rmgc</td>\n",
       "      <td>2016-07-04</td>\n",
       "      <td>2016-07-28</td>\n",
       "    </tr>\n",
       "  </tbody>\n",
       "</table>\n",
       "</div>"
      ],
      "text/plain": [
       "     _id           公司名稱              職位                  上班地址  \\\n",
       "0  3q6w4     燿麒科技股份有限公司  Python 網站後端工程師    台北市大同區承德路一段35號6樓之1   \n",
       "1  4rmgc  雙子星雲端運算股份有限公司         雲端開發工程師  新竹市東區公道五路二段158號11樓之3   \n",
       "\n",
       "                                     職缺網址      職務更新日期        加入日期  \n",
       "0  http://www.104.com.tw/job/?jobno=3q6w4  2016-06-28  2016-07-28  \n",
       "1  http://www.104.com.tw/job/?jobno=4rmgc  2016-07-04  2016-07-28  "
      ]
     },
     "execution_count": 4,
     "metadata": {},
     "output_type": "execute_result"
    }
   ],
   "source": [
    "mongoDB_Query(db.work.find())"
   ]
  },
  {
   "cell_type": "code",
   "execution_count": 39,
   "metadata": {
    "collapsed": false
   },
   "outputs": [
    {
     "name": "stdout",
     "output_type": "stream",
     "text": [
      "清除了 1 筆Object , 運行狀況 1\n"
     ]
    }
   ],
   "source": [
    "# 刪除query的document\n",
    "mesDic= db.work.remove({\"_id\":\"4rmgc\"})\n",
    "print '清除了 %d 筆Object , 運行狀況 %d' % (mesDic['n'],mesDic['ok'])"
   ]
  },
  {
   "cell_type": "code",
   "execution_count": null,
   "metadata": {
    "collapsed": true
   },
   "outputs": [],
   "source": []
  }
 ],
 "metadata": {
  "kernelspec": {
   "display_name": "Python 2",
   "language": "python",
   "name": "python2"
  },
  "language_info": {
   "codemirror_mode": {
    "name": "ipython",
    "version": 2
   },
   "file_extension": ".py",
   "mimetype": "text/x-python",
   "name": "python",
   "nbconvert_exporter": "python",
   "pygments_lexer": "ipython2",
   "version": "2.7.11"
  }
 },
 "nbformat": 4,
 "nbformat_minor": 0
}
