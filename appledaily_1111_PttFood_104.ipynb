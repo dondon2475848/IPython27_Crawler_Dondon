{
 "cells": [
  {
   "cell_type": "code",
   "execution_count": null,
   "metadata": {
    "collapsed": true
   },
   "outputs": [],
   "source": []
  },
  {
   "cell_type": "markdown",
   "metadata": {},
   "source": [
    "# appledaily-蘋果即時新聞"
   ]
  },
  {
   "cell_type": "code",
   "execution_count": 1,
   "metadata": {
    "collapsed": false,
    "scrolled": true
   },
   "outputs": [
    {
     "name": "stdout",
     "output_type": "stream",
     "text": [
      "=============\n",
      "【更新】漫博會下月登場　參展規模創17年...(456) 生活 17:51\n",
      "=============\n",
      "【新新聞】林書豪的新球季宣言(0) 體育 17:51\n",
      "=============\n",
      "【壹週刊】緋聞風暴美女名醫的作文課：滾燙...(19131) 壹週刊 17:50\n",
      "=============\n",
      "爸媽別怕暑假　挑這裡海放孩子(0) 3C 17:50\n",
      "=============\n",
      "【央廣RTI】寶可夢玩家賭城開槍駁火(0) 國際 17:50\n",
      "=============\n",
      "日本高中生談戀愛　因一句話8分鐘後分手(0) 國際 17:48\n",
      "=============\n",
      "上班族在辦公室裝忙　TOP10必學密技(95) 生活 17:47\n",
      "=============\n",
      "這酒店的房地稅變3倍　「永遠看不到盈利」(158) 地產 17:46\n",
      "=============\n",
      "【台灣英文新聞】木星紅斑解密 謎樣高溫獲...(32) 國際 17:43\n",
      "=============\n",
      "【超模生死鬥】冠希譙志玲真相曝光！(229093) 娛樂 17:41\n",
      "=============\n",
      "【壹週刊】電腦應用展今登場　主打電競(19) 壹週刊 17:41\n",
      "=============\n",
      "【法廣RFI】法警方公布尼斯恐襲調查報告(60) 國際 17:40\n",
      "=============\n",
      "【30分鐘送達】與英國政府談妥　亞馬遜無...(58) 國際 17:40\n",
      "=============\n",
      "【央廣RTI】試紙丟馬桶 腸癌在家可篩檢(194) 生活 17:40\n",
      "=============\n",
      "婦丟190萬沒人領　將會變成「他」的(76799) 社會 17:39\n",
      "=============\n",
      "今年受傷第5次　林志祥：拜什麼廟都沒用(782) 體育 17:36\n",
      "=============\n",
      "太扯！空軍花38億買救護直升機　竟無法執...(1608) 政治 17:35\n",
      "=============\n",
      "警局旁闖紅燈遭撞飛　甩出警棍水果刀(10074) 社會 17:34\n",
      "=============\n",
      "阿薩德招降反抗軍　3個月內投降獲赦免(202) 國際 17:34\n",
      "=============\n",
      "美女醫老公反擊 「孩子誰的？」墮胎錄音曝...(33768) 生活 17:33\n",
      "=============\n",
      "公路總局公布「模範生」遊覽車　14家O肇...(462) 生活 17:33\n",
      "=============\n",
      "【不斷更新】連番辱罵志玲「婊子」　陳冠希...(603057) 娛樂 17:30\n",
      "=============\n",
      "【法廣RFI】力免衝突 美挺菲律賓與陸談...(189) 論壇 17:30\n",
      "=============\n",
      "【央廣RTI】陸俄9月南海聯合軍演(266) 國際 17:30\n",
      "=============\n",
      "【憶當年～華碩在這裡誕生】施崇棠接班啟動...(2210) 財經 17:29\n",
      "=============\n",
      "絕美印度　BOUCHERON以珠寶工藝勾...(336) 時尚 17:25\n",
      "=============\n",
      "美女醫戀富商簡訊曝光 「他跟老宣一樣愛孩...(20197) 生活 17:24\n",
      "=============\n",
      "陸客團客跌3成　陸委會：與火燒車沒有直接...(640) 政治 17:24\n",
      "=============\n",
      "【冠希之亂】辱林隔夜　陳冠希潮店冷清提帶...(2462) 娛樂 17:22\n",
      "=============\n",
      "【驚悚片】怕上班遲到　業務急酒駕輾死保全(16385) 社會 17:22\n"
     ]
    }
   ],
   "source": [
    "#coding=utf-8\n",
    "import requests\n",
    "from bs4 import BeautifulSoup\n",
    "res = requests.get('http://www.appledaily.com.tw/realtimenews/section/new/')\n",
    "#print res.text\n",
    "soup = BeautifulSoup(res.text, \"lxml\")\n",
    "for ent in soup.select('li.rtddt'):\n",
    "    print \"=============\"\n",
    "#     print ent\n",
    "#     比較有沒有加[0]的差別，未加[0]是個list，加[0]是將list中第0個unit取出。     list中的中文為unicodes\n",
    "#     print ent.select('h1')\n",
    "#     print \"...................\"\n",
    "#     print ent.select('h1')[0]\n",
    "#     print ent.select('h1')[0].text\n",
    "    print ent.select('h1')[0].text, ent.select('h2')[0].text, ent.select('time')[0].text"
   ]
  },
  {
   "cell_type": "markdown",
   "metadata": {},
   "source": [
    "# 1111人力銀行"
   ]
  },
  {
   "cell_type": "code",
   "execution_count": 3,
   "metadata": {
    "collapsed": false
   },
   "outputs": [
    {
     "name": "stdout",
     "output_type": "stream",
     "text": [
      "資料分析師 7/27 凌群電腦股份有限公司 台北市萬華區\n",
      "資料分析專員 7/27 台灣之星電信股份有限公司 新北市中和區\n",
      "資料分析師 (Clinical Data Analyst) 7/27 晉加股份有限公司 台北市信義區\n",
      "資料分析工程師 7/27 力成科技股份有限公司 新竹縣湖口鄉\n",
      "大數據資料統計分析師 7/27 笛林傑國際科技股份有限公司 台北市信義區\n",
      "00622 台北總公司 全職 資料分析專員 Data Analysis 7/27 法商家樂福總公司(家福【股】)(家樂福) 台北市北投區\n",
      "B商業智能部大數據分析人員銀行 7/27 永豐金融控股【股】 (永豐銀行/永豐金證券/永豐客服科技/永豐金租賃) 台北市中山區\n",
      "B商業智能部資料分析應用人員銀行 7/27 永豐金融控股【股】 (永豐銀行/永豐金證券/永豐客服科技/永豐金租賃) 台北市中山區\n",
      "SAP ERP工程師(台南) 7/27 茂迪股份有限公司 台南市新市區\n",
      "SAP FI CO資深工程師 7/27 岱宇國際股份有限公司. 台北市中山區\n",
      "資料管理專員 (Clinical Data Manager) 7/27 晉加股份有限公司 台北市信義區\n",
      "Cloud Engineer – Big Data(大數據工程師) 7/26 台灣亞馬遜網路服務有限公司(Amazon Web Sever Taiwan Limited) 台北市信義區\n",
      "個金_CRM資料分析人員 7/26 中國信託金融控股【股】(中國信託) 台北市南港區\n",
      "資料分析工程師 7/26 財團法人精密機械研究發展中心PMC 嘉義市西區\n",
      "數據師、大數據分析師 7/26 鼎漢國際工程顧問股份有限公司 台中市北區\n",
      "(東森信息)Scala Java大數據應用開發工程師(Big Data Application developers) 7/26 東森信息科技股份有限公司 新北市中和區\n",
      "大數據分析 中階軟體工程師 7/26 瑞鴻財務顧問股份有限公司 台北市中山區\n",
      "大數據分析 資深軟體工程師 7/26 瑞鴻財務顧問股份有限公司 台北市中山區\n",
      "銀行_支付_信用卡資料分析(Data Mining)人員 7/26 中國信託金融控股【股】(中國信託) 台北市南港區\n",
      "(東森信息)Python 後端 Full Stack全端大數據開發工程師 7/26 東森信息科技股份有限公司 新北市中和區\n",
      "大數據應用程式  資深軟體工程師 7/26 瑞鴻財務顧問股份有限公司 台北市中山區\n",
      "大數據應用程式 中階軟體工程師 7/26 瑞鴻財務顧問股份有限公司 台北市中山區\n",
      "銀行_支付_資料分析與業務規劃人員 7/26 中國信託金融控股【股】(中國信託) 台北市信義區\n",
      "(東森信息)Frontend 前端 Full Stack大數據全端開發工程師 7/26 東森信息科技股份有限公司 新北市中和區\n",
      "Big Data 工程師(ETL)(16031702) 7/26 叡揚資訊股份有限公司 台北市中山區\n",
      "Big Data程式分析師(15031302) 7/26 叡揚資訊股份有限公司 台北市中山區\n",
      "(PCSD)產品研發工程師Big Data 7/26 昕力資訊股份有限公司 台北市內湖區\n",
      "2016年研發替代役Big Data研發工程師 7/26 驊宏資通股份有限公司 台北市中正區\n",
      "Marketing Data Analyst (GMD) 7/26 友訊科技股份有限公司 台北市內湖區\n",
      "SAP 工程師(桃園) 7/26 茂迪股份有限公司 桃園市觀音區\n",
      "SAP ABAP 工程師 7/26 德義資訊股份有限公司 台北市內湖區\n",
      "Senior PM of Big Account(杭州)  J1175 7/26 廣達電腦股份有限公司 北京市\n",
      "(東森信息)Hadoop 軟體工程師(資訊八部) 7/26 東森信息科技股份有限公司 新北市中和區\n",
      "SAP Business One ERP顧問 7/26 敦緯數位服務股份有限公司 台北市內湖區\n",
      "主辦會計(熟悉SAP跟 COSMOS)\t7/26 日藥本舖股份有限公司 台北市松山區\n",
      "門市人員(新竹Big City遠東巨城購物中心) 7/26 般將潮流企業有限公司(Baby嘟嘟房) 新竹市東區\n",
      "資料探勘工程師 7/25 承石資訊股份有限公司 台北市內湖區\n",
      "CRM資料分析師 7/25 網訊電通股份有限公司(全台最大eCRM-專業經營互聯網路及客戶互動服務) 台北市信義區\n",
      "資料分析專員(Data Analyst) 7/25 國立臺灣師範大學教育研究與評鑑中心 台北市大安區\n",
      "互聯網資料分析師 7/25 VIRON 菲律賓\n"
     ]
    }
   ],
   "source": [
    "# coding=utf-8\n",
    "# 使python可以讀取中文\n",
    "\n",
    "import requests\n",
    "\n",
    "res = requests.get('http://www.1111.com.tw/job-bank/job-index.asp?ss=s&ks=%E5%A4%A7%E6%95%B8%E6%93%9A&tt=1,2,4,16&si=1&ps=40&trans=1')\n",
    "# print res.text\n",
    "\n",
    "from bs4 import BeautifulSoup \n",
    "soup = BeautifulSoup(res.text, \"lxml\") \n",
    "\n",
    "# for ul in soup.select('ul'):\n",
    "#     print ul.find( 'a' )['title'].text  \n",
    "    \n",
    "    \n",
    "# for job in soup.select('li.showPositionCssA'):\n",
    "#     if len(job.select('a')) > 0:\n",
    "#         print job.select('a')[0]['title']\n",
    "#         \n",
    "    \n",
    "for job in soup.select('ul'):\n",
    "        if len(job.select('a.positionCssA')) > 0:\n",
    "            print job.select('a.positionCssA')[0]['title'],job.select('li.showDatechangeCss')[0].text,job.select('a.listcol2')[0].text,job.select('li.showWorkcityCss')[0].text"
   ]
  },
  {
   "cell_type": "markdown",
   "metadata": {},
   "source": [
    "# Ptt Food版"
   ]
  },
  {
   "cell_type": "code",
   "execution_count": 4,
   "metadata": {
    "collapsed": false
   },
   "outputs": [
    {
     "name": "stdout",
     "output_type": "stream",
     "text": [
      "共有 12 筆，分別為：\n",
      "[食記] 台北中山 Piano慢慢-赤峰街三眼怪冰淇淋  7/27 tiantian27\n",
      "[請益] 台北伊通街的西村十四搬家了嗎？  7/27 shiinaoki\n",
      "[食記] 首爾：順熙家綠豆煎餅♥廣藏市場排隊美食  7/27 iioouu\n",
      "[食記] 台北 信義 初衷小鹿原味火鍋(近市政府站)  7/27 shinyu1130\n",
      "[食記] 高雄 江糊麵線糊 走清爽路線  7/27 oknstarruby\n",
      "[廣宣] 嘉義嘉樂福夜市必吃甜點~品安豆花  7/27 NashC\n",
      "Fw: [食記] 東京 銀座 IKINARI いきなり 立食牛排  7/27 fufugirl\n",
      "Fw: [食記] 銀座七天六夜自由行-虎屋菓寮  7/27 bell\n",
      "[公告] Food板 板規 V3.8 12/16 Dilbert\n",
      "精華區使用方法  【重要！新手必看！】 11/18 Yawper\n",
      "[公告] 發文請在標題加上地區及提供地址電話。^^  9/28 bluefish\n",
      "[公告] 文章被刪除者請洽精華區的資源回收桶 10/01 Dilbert\n"
     ]
    }
   ],
   "source": [
    "#coding=utf-8\n",
    "\n",
    "import requests\n",
    "res = requests.get('https://www.ptt.cc/bbs/Food/index.html')\n",
    "# print res.text\n",
    "\n",
    "from bs4 import BeautifulSoup \n",
    "soup = BeautifulSoup(res.text, \"lxml\") \n",
    "# print soup\n",
    "print \"共有\",len(soup.select('div.r-ent')),\"筆，分別為：\"\n",
    "dic={}\n",
    "for div in soup.select('div.r-ent'):\n",
    "#     寫法一：\n",
    "#     抓'.title'\n",
    "#     print div.select('.title')[0].text,div.select('.date')[0].text,div.select('.author')[0].text\n",
    "#     寫法二\n",
    "\n",
    "    print div.select('a')[0].text.encode('utf-8'),div.select('.date')[0].text.encode('utf-8'),div.select('.author')[0].text.encode('utf-8')\n"
   ]
  },
  {
   "cell_type": "code",
   "execution_count": 45,
   "metadata": {
    "collapsed": false
   },
   "outputs": [
    {
     "name": "stdout",
     "output_type": "stream",
     "text": [
      "IT Project Specialist : Innovation for Pets Start-up \t台北市松山區 \tTomofun_友愉股份有限公司\n",
      "Web Developer Engineer \t台北市內湖區 \t傳倍順科技股份有限公司\n",
      "RS0415-Python Developer \t新北市汐止區 \t緯創資通股份有限公司\n",
      "Python Web Developer \t台北市大安區 \t傳陽移動股份有限公司\n",
      "Python講師 \t台北市中山區 \t奇科系統有限公司\n",
      "Sr. Developer(PHP, Python) \t台北市內湖區 \t藝珂人事顧問股份有限公司\n",
      "Python / Java 程式開發人員 \t台北市中山區 \t東祥資訊股份有限公司\n",
      "Senior Backend Engineer (python) \t台北市信義區 \t台灣米高蒲志國際股份有限公司\n",
      "資料工程師 (MySQL、Python、PHP) \t台北市中山區 \t玩咖旅行社股份有限公司\n",
      "Software Engineer: Java, Python, LabVIEW \t台北市內湖區 \t動力安全資訊股份有限公司\n",
      "Python軟體工程師 \t台北市松山區 \t景丞科技股份有限公司\n",
      "Python後端工程師 \t台中市西屯區 \t誠雲科技股份有限公司\n",
      "Python後端工程師 \t台北市南港區 \t購明系雲科技股份有限公司\n",
      "Backend/ Full Stack Engineer (Jave/ Python preferred) \t台北市內湖區 \t竹間智能科技有限公司\n",
      "高雄軟體園區- Python Engineer \t高雄市前鎮區 \t鴻海精密工業股份有限公司\n",
      "Python開發工程師(AirDroid) \t新北市新店區 \t樂陞科技股份有限公司\n",
      "Python 網站後端工程師 \t台北市大同區 \t燿麒科技股份有限公司\n",
      "Python 軟體研發工程師 \t台北市信義區 \tTTI_智同科技股份有限公司\n",
      "Python 網站後端工程師 (北京) \t北京市 \t燿麒科技股份有限公司\n",
      "早餐吃麥片 - Back-End Web Developer（Python） \t台北市信義區 \t早餐吃麥片_饌元有限公司\n",
      "Web開發(Python) \t台北市內湖區 \t牛日科技有限公司\n"
     ]
    }
   ],
   "source": [
    "# coding=utf-8\n",
    "# 使python可以讀取中文\n",
    "import re\n",
    "import requests\n",
    "res = requests.get('http://www.104.com.tw/jobbank/joblist/joblist.cfm?jobsource=n104bank1&keyword=Python&order=1')\n",
    "# print res.text \n",
    "\n",
    "from bs4 import BeautifulSoup \n",
    "soup = BeautifulSoup(res.text, \"lxml\") \n",
    "\n",
    "def reSub(dataIn,reContent,replaceCotent):\n",
    "    return re.sub(reContent, replaceCotent, dataIn)\n",
    "\n",
    "bigDic={}\n",
    "count=0\n",
    "for u in soup.select('div.j_cont.line_bottom'):\n",
    "    #職位\n",
    "    #print reSub(reSub(u.select('div.jobname_summary.job_name')[0].span['title'],'[<>]',\"\"),u'(詳細資料)',\"\")\n",
    "    #上班地點\n",
    "    #print u.select('div.area_summary')[0].span.text.strip()\n",
    "    #公司名稱\n",
    "    #print u.select('div.compname_summary')[0].span.text\n",
    "    print reSub(reSub(u.select('div.jobname_summary.job_name')[0].span['title'],'[<>]',\"\"),u'(詳細資料)',\"\"), '\\t',\\\n",
    "    u.select('div.area_summary')[0].span.text.strip(),'\\t',\\\n",
    "    u.select('div.compname_summary')[0].span.text\n",
    "    smallDic={}\n",
    "    count+=1\n",
    "    jobNo='Job_'+str(count)\n",
    "    smallDic['jobNo']=jobNo\n",
    "    smallDic['JobName']=reSub(reSub(u.select('div.jobname_summary.job_name')[0].span['title'],'[<>]',\"\"),u'(詳細資料)',\"\")\n",
    "    smallDic['place']=u.select('div.area_summary')[0].span.text.strip()\n",
    "    smallDic['companyName']=u.select('div.compname_summary')[0].span.text\n",
    "    bigDic[jobNo]=smallDic\n",
    "    \n",
    "    \n",
    "    \n",
    "\n",
    "# for div in soup.select('div.col-md-10.a'):\n",
    "# #     寫法一：\n",
    "# #     抓'.title'\n",
    "# #     print div.select('.title')[0].text,div.select('.date')[0].text,div.select('.author')[0].text\n",
    "# #     寫法二\n",
    "#     print div.text\n",
    "# #     print div.select('a')[0].text,div.select('.date')[0].text,div.select('.author')[0].text"
   ]
  },
  {
   "cell_type": "code",
   "execution_count": 126,
   "metadata": {
    "collapsed": true
   },
   "outputs": [
    {
     "name": "stdout",
     "output_type": "stream",
     "text": [
      "{\"Job_19\": {\"companyName\": \"燿麒科技股份有限公司\", \"place\": \"北京市\", \"jobNo\": \"Job_19\", \"JobName\": \"Python 網站後端工程師 (北京)\"}, \"Job_18\": {\"companyName\": \"TTI_智同科技股份有限公司\", \"place\": \"台北市信義區\", \"jobNo\": \"Job_18\", \"JobName\": \"Python 軟體研發工程師\"}, \"Job_20\": {\"companyName\": \"早餐吃麥片_饌元有限公司\", \"place\": \"台北市信義區\", \"jobNo\": \"Job_20\", \"JobName\": \"早餐吃麥片 - Back-End Web Developer（Python）\"}, \"Job_11\": {\"companyName\": \"景丞科技股份有限公司\", \"place\": \"台北市松山區\", \"jobNo\": \"Job_11\", \"JobName\": \"Python軟體工程師\"}, \"Job_10\": {\"companyName\": \"動力安全資訊股份有限公司\", \"place\": \"台北市內湖區\", \"jobNo\": \"Job_10\", \"JobName\": \"Software Engineer: Java, Python, LabVIEW\"}, \"Job_13\": {\"companyName\": \"購明系雲科技股份有限公司\", \"place\": \"台北市南港區\", \"jobNo\": \"Job_13\", \"JobName\": \"Python後端工程師\"}, \"Job_12\": {\"companyName\": \"誠雲科技股份有限公司\", \"place\": \"台中市西屯區\", \"jobNo\": \"Job_12\", \"JobName\": \"Python後端工程師\"}, \"Job_15\": {\"companyName\": \"鴻海精密工業股份有限公司\", \"place\": \"高雄市前鎮區\", \"jobNo\": \"Job_15\", \"JobName\": \"高雄軟體園區- Python Engineer\"}, \"Job_14\": {\"companyName\": \"竹間智能科技有限公司\", \"place\": \"台北市內湖區\", \"jobNo\": \"Job_14\", \"JobName\": \"Backend/ Full Stack Engineer (Jave/ Python preferred)\"}, \"Job_17\": {\"companyName\": \"燿麒科技股份有限公司\", \"place\": \"台北市大同區\", \"jobNo\": \"Job_17\", \"JobName\": \"Python 網站後端工程師\"}, \"Job_16\": {\"companyName\": \"樂陞科技股份有限公司\", \"place\": \"新北市新店區\", \"jobNo\": \"Job_16\", \"JobName\": \"Python開發工程師(AirDroid)\"}, \"Job_1\": {\"companyName\": \"Tomofun_友愉股份有限公司\", \"place\": \"台北市松山區\", \"jobNo\": \"Job_1\", \"JobName\": \"IT Project Specialist : Innovation for Pets Start-up\"}, \"Job_3\": {\"companyName\": \"緯創資通股份有限公司\", \"place\": \"新北市汐止區\", \"jobNo\": \"Job_3\", \"JobName\": \"RS0415-Python Developer\"}, \"Job_2\": {\"companyName\": \"傳倍順科技股份有限公司\", \"place\": \"台北市內湖區\", \"jobNo\": \"Job_2\", \"JobName\": \"Web Developer Engineer\"}, \"Job_5\": {\"companyName\": \"奇科系統有限公司\", \"place\": \"台北市中山區\", \"jobNo\": \"Job_5\", \"JobName\": \"Python講師\"}, \"Job_4\": {\"companyName\": \"傳陽移動股份有限公司\", \"place\": \"台北市大安區\", \"jobNo\": \"Job_4\", \"JobName\": \"Python Web Developer\"}, \"Job_7\": {\"companyName\": \"東祥資訊股份有限公司\", \"place\": \"台北市中山區\", \"jobNo\": \"Job_7\", \"JobName\": \"Python / Java 程式開發人員\"}, \"Job_6\": {\"companyName\": \"藝珂人事顧問股份有限公司\", \"place\": \"台北市內湖區\", \"jobNo\": \"Job_6\", \"JobName\": \"Sr. Developer(PHP, Python)\"}, \"Job_9\": {\"companyName\": \"玩咖旅行社股份有限公司\", \"place\": \"台北市中山區\", \"jobNo\": \"Job_9\", \"JobName\": \"資料工程師 (MySQL、Python、PHP)\"}, \"Job_8\": {\"companyName\": \"台灣米高蒲志國際股份有限公司\", \"place\": \"台北市信義區\", \"jobNo\": \"Job_8\", \"JobName\": \"Senior Backend Engineer (python)\"}, \"Job_21\": {\"companyName\": \"牛日科技有限公司\", \"place\": \"台北市內湖區\", \"jobNo\": \"Job_21\", \"JobName\": \"Web開發(Python)\"}}\n"
     ]
    }
   ],
   "source": [
    "import json\n",
    "print json.dumps(bigDic,encoding='utf-8',ensure_ascii=False)"
   ]
  },
  {
   "cell_type": "code",
   "execution_count": 38,
   "metadata": {
    "collapsed": false
   },
   "outputs": [
    {
     "name": "stdout",
     "output_type": "stream",
     "text": [
      "TTI_智同科技股份有限公司\n",
      "Python 軟體研發工程師\n",
      "台北市信義區市民大道6段288號10樓\n",
      "2016-07-25\n",
      "2016-07-28\n"
     ]
    }
   ],
   "source": [
    "import requests\n",
    "from bs4 import BeautifulSoup\n",
    "import re\n",
    "from datetime import *\n",
    "\n",
    "### def\n",
    "# 移除指定tag\n",
    "def removeTag(soup,tag):\n",
    "    [x.extract() for x in soup.select(tag)]\n",
    "    \n",
    "    \n",
    "url=\"http://www.104.com.tw/job/?jobno=3j303&jobsource=n104bank1&hotjob_chr=\"\n",
    "res=requests.get(url)\n",
    "#print res.text\n",
    "\n",
    "soup = BeautifulSoup(res.text,\"lxml\")\n",
    "companyName=''\n",
    "position=''\n",
    "address=''\n",
    "companyUpdate=''\n",
    "addDate=''\n",
    "for s in soup.select('div.center'):\n",
    "    #公司名稱\n",
    "    print s.a.text.strip()\n",
    "    companyName =s.a.text.strip().encode('utf8')\n",
    "    removeTag(s,'span')\n",
    "    #職位\n",
    "    print s.h1.text.strip()\n",
    "    position=s.h1.text.strip().encode('utf8')\n",
    "for s in soup.select('main.main'):\n",
    "    removeTag(s,'span')\n",
    "    removeTag(s,'a')\n",
    "    removeTag(s,'button')\n",
    "    #上班地址\n",
    "    print  re.sub(\"[\\s]\",\"\",s.select(\"dd.addr\")[0].text.strip())   \n",
    "    address= re.sub(\"[\\s]\",\"\",s.select(\"dd.addr\")[0].text.strip()).encode('utf8')   \n",
    "    #職位更新的日期\n",
    "    print  re.sub(\"[^\\d-]\", \"\", s.select('time.update')[0].text)\n",
    "    companyUpdate=re.sub(\"[^\\d-]\", \"\", s.select('time.update')[0].text).encode('utf8')\n",
    "    #抓取的日期\n",
    "print date.today()\n",
    "addDate = date.today()\n",
    "data=[{\"公司名稱\":companyName,\"職位\":position,\"上班地址\":address,\"職缺網址\":url,\"職務更新日期\":companyUpdate,\"加入日期\":addDate}]"
   ]
  },
  {
   "cell_type": "code",
   "execution_count": 44,
   "metadata": {
    "collapsed": false
   },
   "outputs": [
    {
     "name": "stdout",
     "output_type": "stream",
     "text": [
      "燿麒科技股份有限公司\n",
      "Python 網站後端工程師\n",
      "台北市大同區承德路一段35號6樓之1\n",
      "2016-06-28\n",
      "2016-07-28\n",
      "3q6w4\n"
     ]
    }
   ],
   "source": [
    "import requests\n",
    "from bs4 import BeautifulSoup\n",
    "import re\n",
    "from datetime import *\n",
    "\n",
    "### def\n",
    "# 移除指定tag\n",
    "def removeTag(soup,tag):\n",
    "    [x.extract() for x in soup.select(tag)]\n",
    "    \n",
    "    \n",
    "url=\"http://www.104.com.tw/job/?jobno=3q6w4&jobsource=n104bank1&hotjob_chr=\"\n",
    "res=requests.get(url)\n",
    "#print res.text\n",
    "\n",
    "soup = BeautifulSoup(res.text,\"lxml\")\n",
    "companyName=''\n",
    "position=''\n",
    "address=''\n",
    "companyUpdate=''\n",
    "addDate=''\n",
    "for s in soup.select('div.center'):\n",
    "    #公司名稱\n",
    "    print s.a.text.strip()\n",
    "    companyName =s.a.text.strip().encode('utf8')\n",
    "    removeTag(s,'span')\n",
    "    #職位\n",
    "    print s.h1.text.strip()\n",
    "    position=s.h1.text.strip().encode('utf8')\n",
    "for s in soup.select('main.main'):\n",
    "    removeTag(s,'span')\n",
    "    removeTag(s,'a')\n",
    "    removeTag(s,'button')\n",
    "    #上班地址\n",
    "    print  re.sub(\"[\\s]\",\"\",s.select(\"dd.addr\")[0].text.strip())   \n",
    "    address= re.sub(\"[\\s]\",\"\",s.select(\"dd.addr\")[0].text.strip()).encode('utf8')   \n",
    "    #職位更新的日期\n",
    "    print  re.sub(\"[^\\d-]\", \"\", s.select('time.update')[0].text)\n",
    "    companyUpdate=re.sub(\"[^\\d-]\", \"\", s.select('time.update')[0].text).encode('utf8')\n",
    "    #抓取的日期\n",
    "print date.today()\n",
    "addDate = date.today()\n",
    "jobNo= url.split('&jobsource=')[0].split('jobno=')[1]\n",
    "\n",
    "\n",
    "\n",
    "data2=[{\"公司名稱\":companyName,\"職位\":position,\"上班地址\":address,\"職缺網址\":url,\"職務更新日期\":companyUpdate,\"加入日期\":addDate}]"
   ]
  },
  {
   "cell_type": "code",
   "execution_count": 34,
   "metadata": {
    "collapsed": false
   },
   "outputs": [
    {
     "data": {
      "text/html": [
       "<div>\n",
       "<table border=\"1\" class=\"dataframe\">\n",
       "  <thead>\n",
       "    <tr style=\"text-align: right;\">\n",
       "      <th></th>\n",
       "      <th>公司名稱</th>\n",
       "      <th>職位</th>\n",
       "      <th>上班地址</th>\n",
       "      <th>職缺網址</th>\n",
       "      <th>職務更新日期</th>\n",
       "      <th>加入日期</th>\n",
       "    </tr>\n",
       "  </thead>\n",
       "  <tbody>\n",
       "    <tr>\n",
       "      <th>0</th>\n",
       "      <td>TTI_智同科技股份有限公司</td>\n",
       "      <td>Python 軟體研發工程師</td>\n",
       "      <td>台北市信義區市民大道6段288號10樓</td>\n",
       "      <td>http://www.104.com.tw/job/?jobno=3j303&amp;jobsour...</td>\n",
       "      <td>2016-07-25</td>\n",
       "      <td>2016-07-28</td>\n",
       "    </tr>\n",
       "  </tbody>\n",
       "</table>\n",
       "</div>"
      ],
      "text/plain": [
       "             公司名稱              職位                 上班地址  \\\n",
       "0  TTI_智同科技股份有限公司  Python 軟體研發工程師  台北市信義區市民大道6段288號10樓   \n",
       "\n",
       "                                                職缺網址      職務更新日期        加入日期  \n",
       "0  http://www.104.com.tw/job/?jobno=3j303&jobsour...  2016-07-25  2016-07-28  "
      ]
     },
     "execution_count": 34,
     "metadata": {},
     "output_type": "execute_result"
    }
   ],
   "source": [
    "import pandas as pd\n",
    "\n",
    "work=pd.DataFrame(data)\n",
    "work=work[[\"公司名稱\",\"職位\",\"上班地址\",\"職缺網址\",\"職務更新日期\",\"加入日期\"]]\n",
    "work"
   ]
  },
  {
   "cell_type": "code",
   "execution_count": 36,
   "metadata": {
    "collapsed": false
   },
   "outputs": [
    {
     "data": {
      "text/html": [
       "<div>\n",
       "<table border=\"1\" class=\"dataframe\">\n",
       "  <thead>\n",
       "    <tr style=\"text-align: right;\">\n",
       "      <th></th>\n",
       "      <th>公司名稱</th>\n",
       "      <th>職位</th>\n",
       "      <th>上班地址</th>\n",
       "      <th>職缺網址</th>\n",
       "      <th>職務更新日期</th>\n",
       "      <th>加入日期</th>\n",
       "    </tr>\n",
       "  </thead>\n",
       "  <tbody>\n",
       "    <tr>\n",
       "      <th>0</th>\n",
       "      <td>TTI_智同科技股份有限公司</td>\n",
       "      <td>Python 軟體研發工程師</td>\n",
       "      <td>台北市信義區市民大道6段288號10樓</td>\n",
       "      <td>http://www.104.com.tw/job/?jobno=3j303&amp;jobsour...</td>\n",
       "      <td>2016-07-25</td>\n",
       "      <td>2016-07-28</td>\n",
       "    </tr>\n",
       "    <tr>\n",
       "      <th>0</th>\n",
       "      <td>燿麒科技股份有限公司</td>\n",
       "      <td>Python 網站後端工程師</td>\n",
       "      <td>台北市大同區承德路一段35號6樓之1</td>\n",
       "      <td>http://www.104.com.tw/job/?jobno=3q6w4&amp;jobsour...</td>\n",
       "      <td>2016-06-28</td>\n",
       "      <td>2016-07-28</td>\n",
       "    </tr>\n",
       "    <tr>\n",
       "      <th>0</th>\n",
       "      <td>燿麒科技股份有限公司</td>\n",
       "      <td>Python 網站後端工程師</td>\n",
       "      <td>台北市大同區承德路一段35號6樓之1</td>\n",
       "      <td>http://www.104.com.tw/job/?jobno=3q6w4&amp;jobsour...</td>\n",
       "      <td>2016-06-28</td>\n",
       "      <td>2016-07-28</td>\n",
       "    </tr>\n",
       "  </tbody>\n",
       "</table>\n",
       "</div>"
      ],
      "text/plain": [
       "             公司名稱              職位                 上班地址  \\\n",
       "0  TTI_智同科技股份有限公司  Python 軟體研發工程師  台北市信義區市民大道6段288號10樓   \n",
       "0      燿麒科技股份有限公司  Python 網站後端工程師   台北市大同區承德路一段35號6樓之1   \n",
       "0      燿麒科技股份有限公司  Python 網站後端工程師   台北市大同區承德路一段35號6樓之1   \n",
       "\n",
       "                                                職缺網址      職務更新日期        加入日期  \n",
       "0  http://www.104.com.tw/job/?jobno=3j303&jobsour...  2016-07-25  2016-07-28  \n",
       "0  http://www.104.com.tw/job/?jobno=3q6w4&jobsour...  2016-06-28  2016-07-28  \n",
       "0  http://www.104.com.tw/job/?jobno=3q6w4&jobsour...  2016-06-28  2016-07-28  "
      ]
     },
     "execution_count": 36,
     "metadata": {},
     "output_type": "execute_result"
    }
   ],
   "source": [
    "newWork=pd.DataFrame(data2)\n",
    "newWork=newWork[[\"公司名稱\",\"職位\",\"上班地址\",\"職缺網址\",\"職務更新日期\",\"加入日期\"]]\n",
    "work=work.append(newWork)"
   ]
  },
  {
   "cell_type": "code",
   "execution_count": 30,
   "metadata": {
    "collapsed": false
   },
   "outputs": [],
   "source": [
    "#work.to_excel('./excel/work.xlsx', sheet_name='Sheet1', index=False, engine='xlsxwriter')\n",
    "work.to_csv('./excel/work.csv', sep=',',index=False)"
   ]
  },
  {
   "cell_type": "code",
   "execution_count": null,
   "metadata": {
    "collapsed": false
   },
   "outputs": [],
   "source": []
  },
  {
   "cell_type": "code",
   "execution_count": null,
   "metadata": {
    "collapsed": true
   },
   "outputs": [],
   "source": []
  }
 ],
 "metadata": {
  "kernelspec": {
   "display_name": "Python 2",
   "language": "python",
   "name": "python2"
  },
  "language_info": {
   "codemirror_mode": {
    "name": "ipython",
    "version": 2
   },
   "file_extension": ".py",
   "mimetype": "text/x-python",
   "name": "python",
   "nbconvert_exporter": "python",
   "pygments_lexer": "ipython2",
   "version": "2.7.11"
  }
 },
 "nbformat": 4,
 "nbformat_minor": 0
}
